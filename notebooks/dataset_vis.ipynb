{
 "cells": [
  {
   "cell_type": "code",
   "execution_count": 1,
   "metadata": {},
   "outputs": [],
   "source": [
    "import sys \n",
    "\n",
    "import numpy as np\n",
    "\n",
    "import torch"
   ]
  },
  {
   "cell_type": "code",
   "execution_count": 2,
   "metadata": {},
   "outputs": [],
   "source": [
    "# Paths for sys\n",
    "\n",
    "# Path to the WatchMaL folder\n",
    "base_path         = \"/sps/t2k/eleblevec/updated_watchmal/WatChMaL\"\n",
    "\n",
    "# Path to the \"pure\" .root containing the events\n",
    "root_file_path     = \"/sps/t2k/eleblevec/files_for_new_watchmal/datasets/root_datasets/output_test.root\"\n",
    "#root_file_path     = \"/sps/t2k/lperisse/skynet_Lorenzo/Datasets/WCSIM_outputs/wcsim112_UnifVtx_10MeV_DNoff_POST_short.root\"\n",
    "\n",
    "# Path to save the .pt containing the graphs\n",
    "graph_dataset_path = \"/sps/t2k/eleblevec/cc_net/grant/src/Data\"\n",
    "#graph_dataset_path = \"/pbs/home/e/elebleve/grant/src/Data\""
   ]
  },
  {
   "cell_type": "code",
   "execution_count": 3,
   "metadata": {},
   "outputs": [],
   "source": [
    "sys.path.append(base_path)"
   ]
  },
  {
   "cell_type": "code",
   "execution_count": 4,
   "metadata": {},
   "outputs": [],
   "source": [
    "from watchmal.dataset.gnn.graph_in_memory_dataset import GraphInMemoryDataset\n"
   ]
  },
  {
   "cell_type": "code",
   "execution_count": 8,
   "metadata": {},
   "outputs": [
    {
     "name": "stderr",
     "output_type": "stream",
     "text": [
      "/sps/t2k/eleblevec/miniconda3/envs/grant/lib/python3.10/site-packages/torch_geometric/data/dataset.py:214: UserWarning: The `pre_transform` argument differs from the one used in the pre-processed version of this dataset. If you want to make use of another pre-processing technique, make sure to delete '/sps/t2k/eleblevec/updated_watchmal/WatChMaL/outputs/GraphDatasets/e_sgn_pi0_bg_2k_100to1000/processed' first\n",
      "  warnings.warn(\n"
     ]
    }
   ],
   "source": [
    "# Graph creation and training parameters \n",
    "train_keys = ['hitx', 'hity', 'hitz', 'time']\n",
    "label_keys = ['eventType']\n",
    "edge_keys  = ['hitx', 'hity', 'hitz']\n",
    "\n",
    "graph_dataset_path = \"/sps/t2k/eleblevec/updated_watchmal/WatChMaL/outputs/GraphDatasets/e_sgn_pi0_bg_2k_100to1000\"\n",
    "tree_name          = \"root_event\"  # \"root_event\"\n",
    "dataset_config = {\n",
    "    'root_file_path': root_file_path,\n",
    "    'graph_dataset_path': graph_dataset_path,\n",
    "    'tree_name': tree_name,\n",
    "    'train_keys': train_keys,\n",
    "    'label_keys': label_keys,\n",
    "    'edge_keys': edge_keys,\n",
    "    'to_torch_tensor': True,\n",
    "    'beta_mode': True,\n",
    "    'verbose': 0,\n",
    "    'watchmal': False\n",
    "}\n",
    "\n",
    "\n",
    "dataset = GraphInMemoryDataset(\n",
    "    config=dataset_config,\n",
    "    pre_filter=None,\n",
    "    pre_transform=None,\n",
    "    transform=None\n",
    ")"
   ]
  },
  {
   "cell_type": "code",
   "execution_count": 9,
   "metadata": {},
   "outputs": [
    {
     "data": {
      "text/plain": [
       "3997"
      ]
     },
     "execution_count": 9,
     "metadata": {},
     "output_type": "execute_result"
    }
   ],
   "source": [
    "len(dataset)"
   ]
  },
  {
   "cell_type": "code",
   "execution_count": 13,
   "metadata": {},
   "outputs": [
    {
     "data": {
      "text/plain": [
       "2431"
      ]
     },
     "execution_count": 13,
     "metadata": {},
     "output_type": "execute_result"
    }
   ],
   "source": [
    "len(dataset[0].x)"
   ]
  },
  {
   "cell_type": "code",
   "execution_count": 14,
   "metadata": {},
   "outputs": [
    {
     "data": {
      "text/plain": [
       "(6326, 3996)"
      ]
     },
     "execution_count": 14,
     "metadata": {},
     "output_type": "execute_result"
    }
   ],
   "source": [
    "len_max = 0\n",
    "idx = 0\n",
    "for i in range(len(dataset)):\n",
    "    length = len(dataset[i].x)\n",
    "    if length > len_max:\n",
    "        len_max = length\n",
    "        idx = i\n",
    "\n",
    "len_max, i"
   ]
  },
  {
   "cell_type": "code",
   "execution_count": null,
   "metadata": {},
   "outputs": [],
   "source": []
  }
 ],
 "metadata": {
  "kernelspec": {
   "display_name": "grant",
   "language": "python",
   "name": "python3"
  },
  "language_info": {
   "codemirror_mode": {
    "name": "ipython",
    "version": 3
   },
   "file_extension": ".py",
   "mimetype": "text/x-python",
   "name": "python",
   "nbconvert_exporter": "python",
   "pygments_lexer": "ipython3",
   "version": "3.10.13"
  }
 },
 "nbformat": 4,
 "nbformat_minor": 2
}
