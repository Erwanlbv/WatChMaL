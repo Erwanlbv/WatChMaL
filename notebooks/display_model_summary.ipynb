{
 "cells": [
  {
   "cell_type": "code",
   "execution_count": 1,
   "metadata": {},
   "outputs": [],
   "source": [
    "import sys \n",
    "\n",
    "import numpy as np\n",
    "\n",
    "import torch"
   ]
  },
  {
   "cell_type": "code",
   "execution_count": 2,
   "metadata": {},
   "outputs": [],
   "source": [
    "# Path to the WatchMaL folder\n",
    "base_path         = \"/sps/t2k/eleblevec/updated_watchmal/WatChMaL\"\n"
   ]
  },
  {
   "cell_type": "code",
   "execution_count": 3,
   "metadata": {},
   "outputs": [],
   "source": [
    "sys.path.append(base_path)"
   ]
  },
  {
   "cell_type": "code",
   "execution_count": 4,
   "metadata": {},
   "outputs": [],
   "source": [
    "from torch_geometric.data import Data"
   ]
  },
  {
   "cell_type": "code",
   "execution_count": 8,
   "metadata": {},
   "outputs": [
    {
     "data": {
      "text/plain": [
       "Data(x=[1, 4], edge_index=[2, 1])"
      ]
     },
     "execution_count": 8,
     "metadata": {},
     "output_type": "execute_result"
    }
   ],
   "source": [
    "feature_size = (1, 4)\n",
    "edge_index = torch.tensor([[0], [0]])\n",
    "graph = Data(x=torch.randn(feature_size), edge_index=edge_index)\n",
    "graph"
   ]
  },
  {
   "cell_type": "code",
   "execution_count": 9,
   "metadata": {},
   "outputs": [],
   "source": [
    "import torch \n",
    "from torch_geometric.nn import summary\n",
    "\n",
    "from watchmal.model.gcns import BaseGCN\n",
    "from watchmal.model.grant_gnn import ResGateConv_v2"
   ]
  },
  {
   "cell_type": "code",
   "execution_count": 11,
   "metadata": {},
   "outputs": [
    {
     "name": "stdout",
     "output_type": "stream",
     "text": [
      "\n",
      "Model summary : \n",
      "+---------------------------------+-----------------+----------------+----------+\n",
      "| Layer                           | Input Shape     | Output Shape   | #Param   |\n",
      "|---------------------------------+-----------------+----------------+----------|\n",
      "| ResGateConv_v2                  | [1, 1]          | [1, 2]         | 21,766   |\n",
      "| ├─(conv_layers)ModuleList       | --              | --             | 10,944   |\n",
      "| │    └─(0)ResGatedGraphConv     | [1, 4], [2, 1]  | [1, 16]        | 320      |\n",
      "| │    └─(1)ResGatedGraphConv     | [1, 16], [2, 1] | [1, 32]        | 2,176    |\n",
      "| │    └─(2)ResGatedGraphConv     | [1, 32], [2, 1] | [1, 64]        | 8,448    |\n",
      "| ├─(cl_norms)ModuleList          | --              | --             | 224      |\n",
      "| │    └─(0)BatchNorm             | [1, 16]         | [1, 16]        | 32       |\n",
      "| │    │    └─(module)BatchNorm1d | [1, 16]         | [1, 16]        | 32       |\n",
      "| │    └─(1)BatchNorm             | [1, 32]         | [1, 32]        | 64       |\n",
      "| │    │    └─(module)BatchNorm1d | [1, 32]         | [1, 32]        | 64       |\n",
      "| │    └─(2)BatchNorm             | [1, 64]         | [1, 64]        | 128      |\n",
      "| │    │    └─(module)BatchNorm1d | [1, 64]         | [1, 64]        | 128      |\n",
      "| ├─(hidden_layers)ModuleList     | --              | --             | 10,402   |\n",
      "| │    └─(0)Linear                | [1, 128]        | [1, 64]        | 8,256    |\n",
      "| │    └─(1)Linear                | [1, 64]         | [1, 32]        | 2,080    |\n",
      "| │    └─(2)Linear                | [1, 32]         | [1, 2]         | 66       |\n",
      "| ├─(hl_norms)ModuleList          | --              | --             | 196      |\n",
      "| │    └─(0)BatchNorm             | [1, 64]         | [1, 64]        | 128      |\n",
      "| │    │    └─(module)BatchNorm1d | [1, 64]         | [1, 64]        | 128      |\n",
      "| │    └─(1)BatchNorm             | [1, 32]         | [1, 32]        | 64       |\n",
      "| │    │    └─(module)BatchNorm1d | [1, 32]         | [1, 32]        | 64       |\n",
      "| │    └─(2)BatchNorm             | --              | --             | 4        |\n",
      "| │    │    └─(module)BatchNorm1d | --              | --             | 4        |\n",
      "| ├─(drop)Dropout                 | [1, 16]         | [1, 16]        | --       |\n",
      "| ├─(activation_cl)ReLU           | [1, 16]         | [1, 16]        | --       |\n",
      "| ├─(activation_hl)ReLU           | [1, 64]         | [1, 64]        | --       |\n",
      "+---------------------------------+-----------------+----------------+----------+\n",
      "\n",
      "\n"
     ]
    }
   ],
   "source": [
    "# model = BaseGCN(\n",
    "#     in_feat=4,\n",
    "#     h_feat=8,\n",
    "#     num_classes=2\n",
    "# ) # A \"new\" model\n",
    "\n",
    "model = ResGateConv_v2(\n",
    "    in_channels=4,\n",
    "    conv_in_channels=[16, 32, 64],\n",
    "    linear_out_features=[64, 32, 2]\n",
    ") # grant_v2, please use this one now\n",
    "\n",
    "print(f\"\\nModel summary : \\n{summary(model, graph)}\\n\\n\")\n"
   ]
  },
  {
   "cell_type": "code",
   "execution_count": null,
   "metadata": {},
   "outputs": [],
   "source": []
  }
 ],
 "metadata": {
  "kernelspec": {
   "display_name": "grant",
   "language": "python",
   "name": "python3"
  },
  "language_info": {
   "codemirror_mode": {
    "name": "ipython",
    "version": 3
   },
   "file_extension": ".py",
   "mimetype": "text/x-python",
   "name": "python",
   "nbconvert_exporter": "python",
   "pygments_lexer": "ipython3",
   "version": "3.10.13"
  }
 },
 "nbformat": 4,
 "nbformat_minor": 2
}
