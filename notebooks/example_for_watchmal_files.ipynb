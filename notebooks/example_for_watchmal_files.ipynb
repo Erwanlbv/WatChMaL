{
 "cells": [
  {
   "cell_type": "code",
   "execution_count": 1,
   "metadata": {},
   "outputs": [],
   "source": [
    "import sys \n",
    "\n",
    "import numpy as np\n",
    "\n",
    "import torch"
   ]
  },
  {
   "cell_type": "markdown",
   "metadata": {},
   "source": [
    "### Paths zone"
   ]
  },
  {
   "cell_type": "code",
   "execution_count": 2,
   "metadata": {},
   "outputs": [],
   "source": [
    "# Paths for sys\n",
    "\n",
    "# Path to the WatchMaL folder\n",
    "base_path         = \"/sps/t2k/eleblevec/updated_watchmal/WatChMaL\"\n",
    "\n",
    "# Path to the \"pure\" .root containing the events\n",
    "root_file_path     = \"/sps/t2k/eleblevec/files_for_new_watchmal/datasets/root_datasets/output_test.root\"\n",
    "#root_file_path     = \"/sps/t2k/lperisse/skynet_Lorenzo/Datasets/WCSIM_outputs/wcsim112_UnifVtx_10MeV_DNoff_POST_short.root\"\n",
    "\n",
    "# Path to save the .pt containing the graphs\n",
    "graph_dataset_path = \"/sps/t2k/eleblevec/cc_net/grant/src/Data\"\n",
    "#graph_dataset_path = \"/pbs/home/e/elebleve/grant/src/Data\""
   ]
  },
  {
   "cell_type": "code",
   "execution_count": 3,
   "metadata": {},
   "outputs": [],
   "source": [
    "sys.path.append(base_path)"
   ]
  },
  {
   "cell_type": "markdown",
   "metadata": {},
   "source": [
    "## Setting dataset and dataloader"
   ]
  },
  {
   "cell_type": "code",
   "execution_count": 4,
   "metadata": {},
   "outputs": [],
   "source": [
    "from watchmal.dataset.gnn.graph_in_memory_dataset import GraphInMemoryDataset\n",
    "\n",
    "#from Datasets.utils import get_dataloader\n",
    "from  watchmal.dataset.gnn.transformations import Normalize\n",
    "\n",
    "import torch_geometric.transforms as T\n",
    "from torch_geometric.transforms import KNNGraph"
   ]
  },
  {
   "cell_type": "code",
   "execution_count": 5,
   "metadata": {},
   "outputs": [
    {
     "name": "stderr",
     "output_type": "stream",
     "text": [
      "/sps/t2k/eleblevec/updated_watchmal/WatChMaL/watchmal/dataset/gnn/transformations.py:64: UserWarning: To copy construct from a tensor, it is recommended to use sourceTensor.clone().detach() or sourceTensor.clone().detach().requires_grad_(True), rather than torch.tensor(sourceTensor).\n",
      "  self.feat_norm = torch.tensor(self.feat_norm)\n"
     ]
    }
   ],
   "source": [
    "# Parameters of all the transformations\n",
    "tank_radius = 6480. * 0.5\n",
    "tank_halfz  = 6575.1 * 0.5\n",
    "tank_timing = 1000.\n",
    "vtx_timing  = 150.\n",
    "\n",
    "n_neighbors = 10\n",
    "\n",
    "\n",
    "### Instantiating the transformion classes \n",
    "knn = KNNGraph(k=n_neighbors)\n",
    "\n",
    "pre_trf_compose = T.Compose([knn])\n",
    "\n",
    "feat_norm  = torch.tensor([[tank_radius, tank_radius, tank_halfz, tank_timing], [-tank_radius, -tank_radius, -tank_halfz, 0.]], dtype=torch.float32)\n",
    "label_norm = torch.tensor([[tank_radius, tank_radius, tank_halfz, vtx_timing],  [-tank_radius, -tank_radius, -tank_halfz, 0.]], dtype=torch.float32)\n",
    "normalize = Normalize(feat_norm=feat_norm, label_norm=None)\n",
    "\n",
    "trf_compose = T.Compose([normalize])"
   ]
  },
  {
   "cell_type": "code",
   "execution_count": 6,
   "metadata": {},
   "outputs": [],
   "source": [
    "# Will be apply to the features in the same order as train_keys\n",
    "# (0, -(1 + 1e-12) Equivalent to \"no normalization\"\n",
    "\n",
    "# Graph Transform parameters\n",
    "# feat_norm = torch.tensor([[1000., 1000., 1000. , 5., 2000.], [-1000., -1000., -1000., -5., 0.]], dtype=torch.float32)\n",
    "# label_norm = torch.tensor([0.5, 0.4], dtype=torch.float32)\n",
    "#label_norm = None\n",
    "\n",
    "\n",
    "# Graph creation and training parameters \n",
    "train_keys = ['hitx', 'hity', 'hitz', 'time']\n",
    "label_keys = ['eventType']\n",
    "edge_keys  = ['hitx', 'hity', 'hitz']\n",
    "\n",
    "graph_dataset_path = \"/sps/t2k/eleblevec/cc_net/grant/src/Data/christine_datasets/beta_mode\"\n",
    "tree_name          = \"root_event\"  # \"root_event\"\n",
    "dataset_config = {\n",
    "    'root_file_path': root_file_path,\n",
    "    'graph_dataset_path': graph_dataset_path,\n",
    "    'tree_name': tree_name,\n",
    "    'train_keys': train_keys,\n",
    "    'label_keys': label_keys,\n",
    "    'edge_keys': edge_keys,\n",
    "    'to_torch_tensor': True,\n",
    "    'beta_mode': True,\n",
    "    'verbose': 0,\n",
    "    'watchmal': False\n",
    "}\n",
    "\n",
    "\n",
    "dataset = GraphInMemoryDataset(\n",
    "    config=dataset_config,\n",
    "    pre_filter=None,\n",
    "    pre_transform=pre_trf_compose,\n",
    "    transform=trf_compose\n",
    ")"
   ]
  },
  {
   "cell_type": "code",
   "execution_count": 7,
   "metadata": {},
   "outputs": [
    {
     "data": {
      "text/plain": [
       "26"
      ]
     },
     "execution_count": 7,
     "metadata": {},
     "output_type": "execute_result"
    }
   ],
   "source": [
    "len(dataset)"
   ]
  },
  {
   "cell_type": "code",
   "execution_count": 11,
   "metadata": {},
   "outputs": [
    {
     "data": {
      "text/plain": [
       "(torch.Size([2431, 4]), torch.Size([1]))"
      ]
     },
     "execution_count": 11,
     "metadata": {},
     "output_type": "execute_result"
    }
   ],
   "source": [
    "dataset[0].x.shape, dataset[0].y.shape"
   ]
  },
  {
   "cell_type": "code",
   "execution_count": 12,
   "metadata": {},
   "outputs": [
    {
     "data": {
      "text/plain": [
       "tensor([1.])"
      ]
     },
     "execution_count": 12,
     "metadata": {},
     "output_type": "execute_result"
    }
   ],
   "source": [
    "dataset[0].y"
   ]
  },
  {
   "cell_type": "code",
   "execution_count": 13,
   "metadata": {},
   "outputs": [
    {
     "data": {
      "text/plain": [
       "(torch.return_types.max(\n",
       " values=tensor([3253.6257, 3250.8821, 3296.4712, 1898.2000]),\n",
       " indices=tensor([    8,    68,     0, 13428])),\n",
       " torch.return_types.min(\n",
       " values=tensor([-3252.0569, -3252.4451, -3296.4712,   550.9000]),\n",
       " indices=tensor([   71,   589,     1, 27626])))"
      ]
     },
     "execution_count": 13,
     "metadata": {},
     "output_type": "execute_result"
    }
   ],
   "source": [
    "dataset.x.max(dim=-2), dataset.x.min(dim=-2)"
   ]
  },
  {
   "cell_type": "markdown",
   "metadata": {},
   "source": [
    "À vérifier : Est-ce qu'il y a une arrête qui relie le noeud à lui même ?"
   ]
  },
  {
   "cell_type": "code",
   "execution_count": 14,
   "metadata": {},
   "outputs": [
    {
     "data": {
      "text/plain": [
       "tensor([0, 0, 0, 0, 0, 0, 0, 0, 0, 0, 1, 1, 1, 1, 1, 1, 1, 1, 1, 1, 2, 2, 2, 2,\n",
       "        2, 2, 2, 2, 2, 2, 3, 3, 3, 3, 3, 3, 3, 3, 3, 3, 4, 4, 4, 4, 4, 4, 4, 4,\n",
       "        4, 4, 5, 5, 5, 5, 5, 5, 5, 5, 5, 5, 6, 6, 6, 6, 6, 6, 6, 6, 6, 6, 7, 7,\n",
       "        7, 7, 7, 7, 7, 7, 7, 7, 8, 8, 8, 8, 8, 8, 8, 8, 8, 8, 9, 9, 9, 9, 9, 9,\n",
       "        9, 9, 9, 9])"
      ]
     },
     "execution_count": 14,
     "metadata": {},
     "output_type": "execute_result"
    }
   ],
   "source": [
    "dataset[0].edge_index[1, :100]"
   ]
  },
  {
   "cell_type": "markdown",
   "metadata": {},
   "source": [
    "#### Troubles when num_workers > 0. Seems to be related to the cluster.\n",
    "See \n",
    "https://discuss.pytorch.org/t/guidelines-for-assigning-num-workers-to-dataloader/813/56  \n",
    "https://unix.stackexchange.com/questions/348315/nfs-mount-device-or-resource-busy\n",
    "\n",
    "  might be usefull : ! echo $TMPDIR  \n",
    "\n",
    "  __Update__ : 25/01/2024 : Indeed, it's related to the cluster s way of handling notebooks, no problem when lauching SLURM job with multiple workers (tested on CPU and GPU)"
   ]
  },
  {
   "cell_type": "code",
   "execution_count": null,
   "metadata": {},
   "outputs": [],
   "source": []
  },
  {
   "cell_type": "code",
   "execution_count": 15,
   "metadata": {},
   "outputs": [],
   "source": [
    "loading_config = {\n",
    "    'batch_size': 8,\n",
    "    \"shuffle\": True,\n",
    "    'num_workers': 0,\n",
    "    'drop_last': True\n",
    "}\n",
    "\n",
    "loader = get_dataloader(dataset, loading_config)\n",
    "loader.num_workers\n",
    "\n",
    "itr = iter(loader)"
   ]
  },
  {
   "cell_type": "code",
   "execution_count": 16,
   "metadata": {},
   "outputs": [
    {
     "data": {
      "text/plain": [
       "DataBatch(x=[21472, 4], y=[8], pos=[21472, 3], edge_index=[2, 214720], batch=[21472], ptr=[9])"
      ]
     },
     "execution_count": 16,
     "metadata": {},
     "output_type": "execute_result"
    }
   ],
   "source": [
    "# Caution : YOU MAY NEED TO REDUCE THE BATCH SIZE IF YOU'RE IN BETA_MODE=TRUE\n",
    "data = next(itr)\n",
    "data"
   ]
  },
  {
   "cell_type": "markdown",
   "metadata": {},
   "source": [
    "### Setting model, loss_fn and optimizer"
   ]
  },
  {
   "cell_type": "code",
   "execution_count": 17,
   "metadata": {},
   "outputs": [],
   "source": [
    "import torch \n",
    "\n",
    "from Models.BaseGCN import GCN\n",
    "from Models.ResGated import ResGateConv_v2"
   ]
  },
  {
   "cell_type": "code",
   "execution_count": 22,
   "metadata": {},
   "outputs": [
    {
     "name": "stdout",
     "output_type": "stream",
     "text": [
      "GCN(\n",
      "  (conv1): GCNConv(4, 8)\n",
      "  (conv2): GCNConv(8, 16)\n",
      "  (conv3): GCNConv(16, 32)\n",
      "  (conv4): GCNConv(32, 64)\n",
      "  (lin): Linear(in_features=64, out_features=1, bias=True)\n",
      ")\n"
     ]
    },
    {
     "data": {
      "text/plain": [
       "2905"
      ]
     },
     "execution_count": 22,
     "metadata": {},
     "output_type": "execute_result"
    }
   ],
   "source": [
    "model = GCN(\n",
    "    in_feat=4,\n",
    "    h_feat=8,\n",
    "    num_classes=1\n",
    ") # A \"new\" model\n",
    "\n",
    "# model = ExecMyEdgeConv(\n",
    "#     dataset,\n",
    "#     nb_conv_layers=2,\n",
    "#     nb_hidden_layers=2,\n",
    "#     kernels=[32, 32],\n",
    "# ) # grant_v1\n",
    "\n",
    "# model = MyEdgeConv(\n",
    "#     dataset,\n",
    "#     nb_conv_layers=2,\n",
    "#     nb_hidden_layers=2,\n",
    "#     kernels=[16, 16],\n",
    "#) # grant_v1_cleaned\n",
    "\n",
    "# model = ResGateConv_v2(\n",
    "#     in_channels=4,\n",
    "#     conv_in_channels=[16, 32, 64, 128],\n",
    "#     linear_out_features=[64, 32, 2]\n",
    "# ) # grant_v2, please use this one now\n",
    "\n",
    "print(model)\n",
    "sum(p.numel() for p in model.parameters() if p.requires_grad)"
   ]
  },
  {
   "cell_type": "markdown",
   "metadata": {},
   "source": [
    "### Training & testing"
   ]
  },
  {
   "cell_type": "code",
   "execution_count": 25,
   "metadata": {},
   "outputs": [],
   "source": [
    "from Tasks.graph_basic_train import train"
   ]
  },
  {
   "cell_type": "code",
   "execution_count": 26,
   "metadata": {},
   "outputs": [],
   "source": [
    "traintest_config = {\n",
    "    'epochs': 5,\n",
    "    'print_every': 15, # print every n batches\n",
    "    'flatten_model_output': True\n",
    "}"
   ]
  },
  {
   "cell_type": "code",
   "execution_count": 27,
   "metadata": {},
   "outputs": [
    {
     "name": "stdout",
     "output_type": "stream",
     "text": [
      "Epoch 1\n",
      "-------------------------------\n",
      "The loss is : 0.7164809703826904 [0 / 24], batch_size: 8\n"
     ]
    },
    {
     "name": "stdout",
     "output_type": "stream",
     "text": [
      "The loss is : 0.6235530972480774 [0 / 24], batch_size: 8\n",
      "The loss is : 0.5402531623840332 [0 / 24], batch_size: 8\n",
      "The loss is : 0.476769357919693 [0 / 24], batch_size: 8\n",
      "The loss is : 0.4119681715965271 [0 / 24], batch_size: 8\n"
     ]
    }
   ],
   "source": [
    "loss_fn = torch.nn.BCEWithLogitsLoss(reduction='mean')\n",
    "optimizer=torch.optim.Adam(model.parameters(), lr=1e-3)\n",
    "\n",
    "for t in range(traintest_config['epochs']):\n",
    "\n",
    "    if t % 5 == 0:\n",
    "        print(f\"Epoch {t+1}\\n-------------------------------\")\n",
    "        \n",
    "    train(loader, model, loss_fn, optimizer, **traintest_config)"
   ]
  },
  {
   "cell_type": "markdown",
   "metadata": {},
   "source": [
    "#### Évaluation avec une séparation (non-optimale) à 0.5 "
   ]
  },
  {
   "cell_type": "code",
   "execution_count": 28,
   "metadata": {},
   "outputs": [],
   "source": [
    "import matplotlib.pyplot as plt\n",
    "\n",
    "from Tasks.graph_basic_test import test"
   ]
  },
  {
   "cell_type": "code",
   "execution_count": 29,
   "metadata": {},
   "outputs": [
    {
     "name": "stdout",
     "output_type": "stream",
     "text": [
      "Nombre de données utilisées pour le test : 24\n",
      "Test Error: \n",
      " Accuracy: 100.0%, Avg loss: 0.348738 \n",
      "\n"
     ]
    }
   ],
   "source": [
    "test_config = {\n",
    "    'threshold': 0.5,\n",
    "    'flatten_model_output': True,    \n",
    "}\n",
    "\n",
    "test(loader, model, loss_fn, **test_config)"
   ]
  },
  {
   "cell_type": "code",
   "execution_count": 30,
   "metadata": {},
   "outputs": [
    {
     "data": {
      "text/plain": [
       "(array([3., 0., 1., 0., 2., 8., 2., 3., 2., 3.]),\n",
       " array([0.80324852, 0.81613338, 0.82901818, 0.84190297, 0.85478783,\n",
       "        0.86767268, 0.88055748, 0.89344227, 0.90632713, 0.91921198,\n",
       "        0.93209678]),\n",
       " <BarContainer object of 10 artists>)"
      ]
     },
     "execution_count": 30,
     "metadata": {},
     "output_type": "execute_result"
    },
    {
     "data": {
      "image/png": "[encoded data removed]",
      "text/plain": [
       "<Figure size 640x480 with 1 Axes>"
      ]
     },
     "metadata": {},
     "output_type": "display_data"
    }
   ],
   "source": [
    "outs = []\n",
    "for batch in loader:\n",
    "    outs.append(torch.flatten((model(batch))).detach().numpy())\n",
    "\n",
    "outs = np.array(outs).reshape(-1)\n",
    "plt.hist(outs)"
   ]
  },
  {
   "cell_type": "markdown",
   "metadata": {},
   "source": [
    "## Comparing with the output of an untrained model"
   ]
  },
  {
   "cell_type": "code",
   "execution_count": 31,
   "metadata": {},
   "outputs": [],
   "source": [
    "model_2 = GCN(\n",
    "    in_feat=4,\n",
    "    h_feat=8,\n",
    "    num_classes=1\n",
    ") # A \"new\" model"
   ]
  },
  {
   "cell_type": "code",
   "execution_count": 32,
   "metadata": {},
   "outputs": [
    {
     "data": {
      "text/plain": [
       "(array([3., 1., 2., 2., 0., 2., 3., 5., 4., 2.]),\n",
       " array([-0.18609372, -0.15579985, -0.12550598, -0.09521211, -0.06491824,\n",
       "        -0.03462438, -0.00433051,  0.02596336,  0.05625723,  0.0865511 ,\n",
       "         0.11684497]),\n",
       " <BarContainer object of 10 artists>)"
      ]
     },
     "execution_count": 32,
     "metadata": {},
     "output_type": "execute_result"
    },
    {
     "data": {
      "image/png": "[encoded data removed]",
      "text/plain": [
       "<Figure size 640x480 with 1 Axes>"
      ]
     },
     "metadata": {},
     "output_type": "display_data"
    }
   ],
   "source": [
    "outs = []\n",
    "for batch in loader:\n",
    "    outs.append(torch.flatten((model_2(batch))).detach().numpy())\n",
    "\n",
    "outs = np.array(outs).reshape(-1)\n",
    "plt.hist(outs)"
   ]
  },
  {
   "cell_type": "markdown",
   "metadata": {},
   "source": [
    "## Code for debug\n",
    "\n",
    "(Do not execute if only following the tutoria)"
   ]
  },
  {
   "cell_type": "markdown",
   "metadata": {},
   "source": [
    "for batch_data in loader:\n",
    "    \n",
    "    data = batch_data[0]\n",
    "\n",
    "    print(f\"The batch       : {batch_data} \\n\")\n",
    "    print(f\"Number of nodes : {data.x} \\n\")\n",
    "    print(f\"Data.x type     : {data.x.type()} \\n\")\n",
    "    print(f\"Data.x shape    : {data.x.shape} \\n\")\n",
    "    print(f\"Label type      : {data.y.type()} \\n\")\n",
    "    \n",
    "    # print(f'Number of nodes: {data.num_nodes}')\n",
    "    # print(f'Number of edges: {data.num_edges}')\n",
    "    # print(f'Average node degree: {data.num_edges / data.num_nodes:.2f}')\n",
    "    # print(f'Has isolated nodes: {data.has_isolated_nodes()}')\n",
    "    # print(f'Has self-loops: {data.has_self_loops()}')\n",
    "    # print(f'Is undirected: {data.is_undirected()}')\n",
    "    break"
   ]
  },
  {
   "cell_type": "markdown",
   "metadata": {},
   "source": []
  }
 ],
 "metadata": {
  "kernelspec": {
   "display_name": "skynr",
   "language": "python",
   "name": "python3"
  },
  "language_info": {
   "codemirror_mode": {
    "name": "ipython",
    "version": 3
   },
   "file_extension": ".py",
   "mimetype": "text/x-python",
   "name": "python",
   "nbconvert_exporter": "python",
   "pygments_lexer": "ipython3",
   "version": "3.10.13"
  }
 },
 "nbformat": 4,
 "nbformat_minor": 2
}
